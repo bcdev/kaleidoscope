{
 "cells": [
  {
   "cell_type": "code",
   "execution_count": null,
   "id": "0",
   "metadata": {},
   "outputs": [],
   "source": [
    "from matplotlib import pyplot as plt\n",
    "import numpy as np\n",
    "import xarray as xr"
   ]
  },
  {
   "cell_type": "code",
   "execution_count": null,
   "id": "1",
   "metadata": {},
   "outputs": [],
   "source": [
    "import warnings\n",
    "\n",
    "warnings.filterwarnings(\"ignore\")"
   ]
  },
  {
   "cell_type": "code",
   "execution_count": null,
   "id": "2",
   "metadata": {},
   "outputs": [],
   "source": [
    "def plot_histogram(res):\n",
    "    fig, ax = plt.subplots()\n",
    "    res.plot(ax=ax, range=(-5.5, 5.5), bins=11)\n",
    "    ax.set_title(v)\n",
    "    ax.set_xlabel(\"normalized residual\")\n",
    "    ax.set_ylabel(\"number count\")\n",
    "    plt.show()\n",
    "    plt.close()\n",
    "    fig.clear()"
   ]
  },
  {
   "cell_type": "code",
   "execution_count": null,
   "id": "3",
   "metadata": {},
   "outputs": [],
   "source": [
    "def plot_mean(res, dims: list[str], vmin):\n",
    "    fig, ax = plt.subplots()\n",
    "    res.mean(dim=dims).plot(\n",
    "        ax=ax, cbar_kwargs={\"label\": \"mean normalized residual\"}, vmin=vmin\n",
    "    )\n",
    "    ax.set_title(v)\n",
    "    plt.show()\n",
    "    plt.close()\n",
    "    fig.clear()"
   ]
  },
  {
   "cell_type": "code",
   "execution_count": null,
   "id": "4",
   "metadata": {},
   "outputs": [],
   "source": [
    "def plot_std(res, dims: list[str], vmin, vmax):\n",
    "    fig, ax = plt.subplots()\n",
    "    res.std(dim=dims).plot(\n",
    "        ax=ax,\n",
    "        cbar_kwargs={\"label\": \"std. dev. normalized residual\"},\n",
    "        vmin=vmin,\n",
    "        vmax=vmax,\n",
    "    )\n",
    "    ax.set_title(v)\n",
    "    plt.show()\n",
    "    plt.close()\n",
    "    fig.clear()"
   ]
  },
  {
   "cell_type": "code",
   "execution_count": null,
   "id": "5",
   "metadata": {},
   "outputs": [],
   "source": [
    "def show_statistics(res):\n",
    "    print(f\"mean = {res.mean().compute().item() :.3f}\")\n",
    "    print(f\"std  = {res.std().compute().item() :.3f}\")\n",
    "    print(f\"min  = {res.quantile(q=0.001).compute().item() :.3f}\")\n",
    "    print(f\"max  = {res.quantile(q=0.999).compute().item() :.3f}\")"
   ]
  },
  {
   "cell_type": "markdown",
   "id": "6",
   "metadata": {
    "jp-MarkdownHeadingCollapsed": true
   },
   "source": [
    "# ESA SCOPE exchange (D. J. Ford)"
   ]
  },
  {
   "cell_type": "code",
   "execution_count": null,
   "id": "7",
   "metadata": {},
   "outputs": [],
   "source": [
    "ds = xr.open_mfdataset(\n",
    "    \"./Ford_et_al_UExP-FNN-U_physics_carbonatesystem_ESASCOPE_v5.*.nc\",\n",
    "    engine=\"h5netcdf\",\n",
    "    chunks={\"time\": 12},\n",
    "    combine=\"nested\",\n",
    "    concat_dim=\"i\",\n",
    ").transpose(\"time\", \"i\", \"latitude\", \"longitude\")"
   ]
  },
  {
   "cell_type": "code",
   "execution_count": null,
   "id": "8",
   "metadata": {},
   "outputs": [],
   "source": [
    "ds"
   ]
  },
  {
   "cell_type": "code",
   "execution_count": null,
   "id": "9",
   "metadata": {},
   "outputs": [],
   "source": [
    "config = {\n",
    "    \"fco2\": {\n",
    "        \"uncertainty\": \"fco2_tot_unc\",\n",
    "        \"coverage\": 2.0,\n",
    "    },\n",
    "    \"flux\": {\n",
    "        \"uncertainty\": \"flux_unc\",\n",
    "        \"relative\": True,\n",
    "        \"coverage\": 2.0,\n",
    "    },\n",
    "    \"ta\": {\n",
    "        \"uncertainty\": \"ta_tot_unc\",\n",
    "        \"coverage\": 2.0,\n",
    "    },\n",
    "    \"dic\": {\n",
    "        \"uncertainty\": \"dic_tot_unc\",\n",
    "        \"coverage\": 2.0,\n",
    "    },\n",
    "    \"pH\": {\n",
    "        \"uncertainty\": \"pH_tot_unc\",\n",
    "        \"coverage\": 2.0,\n",
    "    },\n",
    "    \"saturation_aragonite\": {\n",
    "        \"uncertainty\": \"saturation_aragonite_tot_unc\",\n",
    "        \"coverage\": 2.0,\n",
    "    },\n",
    "}"
   ]
  },
  {
   "cell_type": "code",
   "execution_count": null,
   "id": "10",
   "metadata": {},
   "outputs": [],
   "source": [
    "for v, a in config.items():\n",
    "    res = ds[v][:, 1:] - ds[v][:, 0]\n",
    "    res = res / (\n",
    "        ds[a[\"uncertainty\"]][:, 0]\n",
    "        / a.get(\"coverage\", 1.0)\n",
    "        * (ds[v][:, 0] if a.get(\"relative\", False) else 1.0)\n",
    "    )\n",
    "\n",
    "    show_statistics(res)\n",
    "    plot_histogram(res)\n",
    "    plot_mean(res, dims=[\"i\", \"time\"], vmin=-0.05)\n",
    "    plot_std(res, dims=[\"i\", \"time\"], vmin=0.95, vmax=1.05)"
   ]
  },
  {
   "cell_type": "code",
   "execution_count": null,
   "id": "11",
   "metadata": {},
   "outputs": [],
   "source": [
    "ds.close()"
   ]
  },
  {
   "cell_type": "markdown",
   "id": "12",
   "metadata": {
    "jp-MarkdownHeadingCollapsed": true
   },
   "source": [
    "# ESA CCI Ocean Colour"
   ]
  },
  {
   "cell_type": "code",
   "execution_count": null,
   "id": "13",
   "metadata": {},
   "outputs": [],
   "source": [
    "ds = xr.open_mfdataset(\n",
    "    \"./ESACCI-OC-L3S-OC_PRODUCTS-MERGED-1M_MONTHLY_4km_GEO_PML_OCx_QAA-200001-fv6.0.*.nc\",\n",
    "    engine=\"h5netcdf\",\n",
    "    chunks={\"lat\": 1080, \"lon\": 1080},\n",
    "    combine=\"nested\",\n",
    "    concat_dim=\"i\",\n",
    ").transpose(\"time\", \"i\", \"lat\", \"lon\")"
   ]
  },
  {
   "cell_type": "code",
   "execution_count": null,
   "id": "14",
   "metadata": {},
   "outputs": [],
   "source": [
    "ds"
   ]
  },
  {
   "cell_type": "code",
   "execution_count": null,
   "id": "15",
   "metadata": {},
   "outputs": [],
   "source": [
    "config = {\n",
    "    \"Rrs_412\": {\n",
    "        \"bias\": \"Rrs_412_bias\",\n",
    "        \"rmsd\": \"Rrs_412_rmsd\",\n",
    "    },\n",
    "    \"Rrs_443\": {\n",
    "        \"bias\": \"Rrs_443_bias\",\n",
    "        \"rmsd\": \"Rrs_443_rmsd\",\n",
    "    },\n",
    "    \"Rrs_490\": {\n",
    "        \"bias\": \"Rrs_490_bias\",\n",
    "        \"rmsd\": \"Rrs_490_rmsd\",\n",
    "    },\n",
    "    \"Rrs_510\": {\n",
    "        \"bias\": \"Rrs_510_bias\",\n",
    "        \"rmsd\": \"Rrs_510_rmsd\",\n",
    "    },\n",
    "    \"Rrs_560\": {\n",
    "        \"bias\": \"Rrs_560_bias\",\n",
    "        \"rmsd\": \"Rrs_560_rmsd\",\n",
    "    },\n",
    "    \"Rrs_665\": {\n",
    "        \"bias\": \"Rrs_665_bias\",\n",
    "        \"rmsd\": \"Rrs_665_rmsd\",\n",
    "    },\n",
    "    \"adg_412\": {\n",
    "        \"bias\": \"adg_412_bias\",\n",
    "        \"rmsd\": \"adg_412_rmsd\",\n",
    "    },\n",
    "    \"adg_443\": {\n",
    "        \"bias\": \"adg_443_bias\",\n",
    "        \"rmsd\": \"adg_443_rmsd\",\n",
    "    },\n",
    "    \"adg_490\": {\n",
    "        \"bias\": \"adg_490_bias\",\n",
    "        \"rmsd\": \"adg_490_rmsd\",\n",
    "    },\n",
    "    \"adg_510\": {\n",
    "        \"bias\": \"adg_510_bias\",\n",
    "        \"rmsd\": \"adg_510_rmsd\",\n",
    "    },\n",
    "    \"adg_560\": {\n",
    "        \"bias\": \"adg_560_bias\",\n",
    "        \"rmsd\": \"adg_560_rmsd\",\n",
    "    },\n",
    "    \"adg_665\": {\n",
    "        \"bias\": \"adg_665_bias\",\n",
    "        \"rmsd\": \"adg_665_rmsd\",\n",
    "    },\n",
    "    \"aph_412\": {\n",
    "        \"bias\": \"aph_412_bias\",\n",
    "        \"rmsd\": \"aph_412_rmsd\",\n",
    "    },\n",
    "    \"aph_443\": {\n",
    "        \"bias\": \"aph_443_bias\",\n",
    "        \"rmsd\": \"aph_443_rmsd\",\n",
    "    },\n",
    "    \"aph_490\": {\n",
    "        \"bias\": \"aph_490_bias\",\n",
    "        \"rmsd\": \"aph_490_rmsd\",\n",
    "    },\n",
    "    \"aph_510\": {\n",
    "        \"bias\": \"aph_510_bias\",\n",
    "        \"rmsd\": \"aph_510_rmsd\",\n",
    "    },\n",
    "    \"aph_560\": {\n",
    "        \"bias\": \"aph_560_bias\",\n",
    "        \"rmsd\": \"aph_560_rmsd\",\n",
    "    },\n",
    "    \"aph_665\": {\n",
    "        \"bias\": \"aph_665_bias\",\n",
    "        \"rmsd\": \"aph_665_rmsd\",\n",
    "    },\n",
    "    \"kd_490\": {\n",
    "        \"bias\": \"kd_490_bias\",\n",
    "        \"rmsd\": \"kd_490_rmsd\",\n",
    "    },\n",
    "    \"chlor_a\": {\n",
    "        \"bias\": \"chlor_a_log10_bias\",\n",
    "        \"rmsd\": \"chlor_a_log10_rmsd\",\n",
    "    },\n",
    "}"
   ]
  },
  {
   "cell_type": "code",
   "execution_count": null,
   "id": "16",
   "metadata": {},
   "outputs": [],
   "source": [
    "for v, a in config.items():\n",
    "    x = ds[v][0, 0]\n",
    "    u = np.sqrt(\n",
    "        np.square(ds[a[\"rmsd\"]][0, 0]) - np.square(ds[a[\"bias\"]][0, 0])\n",
    "    )\n",
    "    if v == \"chlor_a\":\n",
    "        u = x * np.sqrt(np.exp(np.square(np.log(10.0) * u)) - 1.0)\n",
    "    res = (ds[v][0, 1:] - x) / u\n",
    "\n",
    "    show_statistics(res)\n",
    "    plot_histogram(res)\n",
    "    plot_mean(res, dims=[\"i\"], vmin=-1.5)\n",
    "    plot_std(res, dims=[\"i\"], vmin=0.5, vmax=1.5)"
   ]
  },
  {
   "cell_type": "code",
   "execution_count": null,
   "id": "17",
   "metadata": {},
   "outputs": [],
   "source": [
    "ds.close()"
   ]
  },
  {
   "cell_type": "markdown",
   "id": "18",
   "metadata": {
    "jp-MarkdownHeadingCollapsed": true
   },
   "source": [
    "# GHRSST"
   ]
  },
  {
   "cell_type": "code",
   "execution_count": null,
   "id": "19",
   "metadata": {},
   "outputs": [],
   "source": [
    "ds = xr.open_mfdataset(\n",
    "    \"./200001-ESACCI-L4_GHRSST-SSTdepth-OSTIA-GLOB_CDR3.0-v02.0-fv01.0-1M.*.nc\",\n",
    "    engine=\"h5netcdf\",\n",
    "    chunks={\"lat\": 1800, \"lon\": 3600},\n",
    "    combine=\"nested\",\n",
    "    concat_dim=\"i\",\n",
    ").transpose(\"time\", \"i\", \"lat\", \"lon\")"
   ]
  },
  {
   "cell_type": "code",
   "execution_count": null,
   "id": "20",
   "metadata": {},
   "outputs": [],
   "source": [
    "ds"
   ]
  },
  {
   "cell_type": "code",
   "execution_count": null,
   "id": "21",
   "metadata": {},
   "outputs": [],
   "source": [
    "config = {\n",
    "    \"analysed_sst\": {\n",
    "        \"uncertainty\": \"analysed_sst_uncertainty\",\n",
    "        \"distribution\": \"normal\",\n",
    "    }\n",
    "}"
   ]
  },
  {
   "cell_type": "code",
   "execution_count": null,
   "id": "22",
   "metadata": {},
   "outputs": [],
   "source": [
    "for v, a in config.items():\n",
    "    res = (ds[v][0, 1:] - ds[v][0, 0]) / ds[a[\"uncertainty\"]][0, 0]\n",
    "\n",
    "    show_statistics(res)\n",
    "    plot_histogram(res)\n",
    "    plot_mean(res, dims=[\"i\"], vmin=-1.5)\n",
    "    plot_std(res, dims=[\"i\"], vmin=0.5, vmax=1.5)"
   ]
  },
  {
   "cell_type": "code",
   "execution_count": null,
   "id": "23",
   "metadata": {},
   "outputs": [],
   "source": [
    "ds.close()"
   ]
  },
  {
   "cell_type": "markdown",
   "id": "24",
   "metadata": {
    "jp-MarkdownHeadingCollapsed": true
   },
   "source": [
    "# GLORYS"
   ]
  },
  {
   "cell_type": "code",
   "execution_count": null,
   "id": "25",
   "metadata": {},
   "outputs": [],
   "source": [
    "ds = xr.open_mfdataset(\n",
    "    \"./mercatorglorys12v1_gl12_mean_200001.*.nc\",\n",
    "    engine=\"h5netcdf\",\n",
    "    mask_and_scale=True,\n",
    "    chunks={\"depth\": 10, \"latitude\": 511, \"lon\": 1080},\n",
    "    combine=\"nested\",\n",
    "    concat_dim=\"i\",\n",
    ")"
   ]
  },
  {
   "cell_type": "code",
   "execution_count": null,
   "id": "26",
   "metadata": {},
   "outputs": [],
   "source": [
    "ds"
   ]
  },
  {
   "cell_type": "code",
   "execution_count": null,
   "id": "27",
   "metadata": {},
   "outputs": [],
   "source": [
    "config = {\n",
    "    \"so\": {\n",
    "        \"uncertainty\": 0.1,\n",
    "    }\n",
    "}"
   ]
  },
  {
   "cell_type": "code",
   "execution_count": null,
   "id": "28",
   "metadata": {},
   "outputs": [],
   "source": [
    "for v, a in config.items():\n",
    "    res = (ds[v][1:, 0, 0] - ds[v][0, 0, 0]) / a[\"uncertainty\"]\n",
    "\n",
    "    show_statistics(res)\n",
    "    plot_histogram(res)\n",
    "    plot_mean(res, dims=[\"i\"], vmin=-1.5)\n",
    "    plot_std(res, dims=[\"i\"], vmin=0.5, vmax=1.5)"
   ]
  },
  {
   "cell_type": "code",
   "execution_count": null,
   "id": "29",
   "metadata": {},
   "outputs": [],
   "source": [
    "ds.close()"
   ]
  },
  {
   "cell_type": "code",
   "execution_count": null,
   "id": "30",
   "metadata": {},
   "outputs": [],
   "source": []
  }
 ],
 "metadata": {
  "kernelspec": {
   "display_name": "Python 3 (ipykernel)",
   "language": "python",
   "name": "python3"
  },
  "language_info": {
   "codemirror_mode": {
    "name": "ipython",
    "version": 3
   },
   "file_extension": ".py",
   "mimetype": "text/x-python",
   "name": "python",
   "nbconvert_exporter": "python",
   "pygments_lexer": "ipython3",
   "version": "3.13.3"
  }
 },
 "nbformat": 4,
 "nbformat_minor": 5
}
