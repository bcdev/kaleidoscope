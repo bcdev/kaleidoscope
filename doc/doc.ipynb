{
 "cells": [
  {
   "cell_type": "markdown",
   "id": "0",
   "metadata": {
    "jp-MarkdownHeadingCollapsed": true
   },
   "source": [
    "# Definitions"
   ]
  },
  {
   "cell_type": "code",
   "execution_count": null,
   "id": "1",
   "metadata": {},
   "outputs": [],
   "source": [
    "from matplotlib import pyplot as plt\n",
    "import dask.array as da\n",
    "import numpy as np\n",
    "import xarray as xr"
   ]
  },
  {
   "cell_type": "code",
   "execution_count": null,
   "id": "2",
   "metadata": {},
   "outputs": [],
   "source": [
    "from kaleidoscope.val.plots import HistogramPlot\n",
    "from kaleidoscope.val.plots import WorldPlot"
   ]
  },
  {
   "cell_type": "code",
   "execution_count": null,
   "id": "3",
   "metadata": {},
   "outputs": [],
   "source": [
    "import warnings\n",
    "\n",
    "warnings.filterwarnings(\"ignore\")"
   ]
  },
  {
   "cell_type": "code",
   "execution_count": null,
   "id": "4",
   "metadata": {},
   "outputs": [],
   "source": [
    "def plot_histogram(data, title: str):\n",
    "    fig = HistogramPlot().plot(\n",
    "        data=data,\n",
    "        xlabel=\"normalized error\",\n",
    "        ylabel=\"probability density\",\n",
    "        fn=f\"hist-res-{title}\",\n",
    "        title=title,\n",
    "        plot_size=(4.8, 3.6),\n",
    "        bins=11,\n",
    "        hist_range=(-5.5, 5.5),\n",
    "        density=True,\n",
    "    )\n",
    "    fig.clear()"
   ]
  },
  {
   "cell_type": "code",
   "execution_count": null,
   "id": "5",
   "metadata": {},
   "outputs": [],
   "source": [
    "def plot_histogram_mean(data, dims: str | list[str], title: str):\n",
    "    fig = HistogramPlot().plot(\n",
    "        data=data.mean(dims),\n",
    "        xlabel=\"mean normalized error\",\n",
    "        ylabel=\"probability density\",\n",
    "        fn=f\"hist-mean-{title}\",\n",
    "        title=title,\n",
    "        plot_size=(4.8, 3.6),\n",
    "        bins=11,\n",
    "        hist_range=(-1.1, 1.1),\n",
    "        density=True,\n",
    "    )\n",
    "    fig.clear()"
   ]
  },
  {
   "cell_type": "code",
   "execution_count": null,
   "id": "6",
   "metadata": {},
   "outputs": [],
   "source": [
    "def plot_histogram_std(data, dims: str | list[str], title: str):\n",
    "    fig = HistogramPlot().plot(\n",
    "        data=da.sqrt(da.square(data).mean(dims)),\n",
    "        xlabel=\"std. dev. normalized errors\",\n",
    "        ylabel=\"probability density\",\n",
    "        fn=f\"hist-std-{title}\",\n",
    "        title=title,\n",
    "        plot_size=(4.8, 3.6),\n",
    "        bins=9,\n",
    "        hist_range=(0.1, 1.9),\n",
    "        density=True,\n",
    "    )\n",
    "    fig.clear()"
   ]
  },
  {
   "cell_type": "code",
   "execution_count": null,
   "id": "7",
   "metadata": {},
   "outputs": [],
   "source": [
    "def plot_histogram_range(data, dims: str | list[str], title: str):\n",
    "    fig = HistogramPlot().plot(\n",
    "        data=data.max(dims) - data.min(dims),\n",
    "        xlabel=\"range of normalized errors\",\n",
    "        ylabel=\"probability density\",\n",
    "        fn=f\"hist-range-{title}\",\n",
    "        title=title,\n",
    "        plot_size=(4.8, 3.6),\n",
    "        bins=15,\n",
    "        hist_range=(0.0, 6.0),\n",
    "        density=True,\n",
    "    )\n",
    "    fig.clear()"
   ]
  },
  {
   "cell_type": "code",
   "execution_count": null,
   "id": "8",
   "metadata": {},
   "outputs": [],
   "source": [
    "def plot_mean(\n",
    "    data,\n",
    "    dims: str | list[str],\n",
    "    title: str,\n",
    "    vmin=-0.5,\n",
    "    vmax=0.5,\n",
    "    x: str | None = None,\n",
    "    y: str | None = None,\n",
    "):\n",
    "    fig = WorldPlot().plot(\n",
    "        data=data.mean(dims),\n",
    "        title=title,\n",
    "        fn=f\"map-mean-{title}\",\n",
    "        plot_size=(9.6, 3.6),\n",
    "        cbar_label=\"mean normalized error\",\n",
    "        vmin=vmin,\n",
    "        vmax=vmax,\n",
    "        x=x,\n",
    "        y=y,\n",
    "    )\n",
    "    fig.clear()"
   ]
  },
  {
   "cell_type": "code",
   "execution_count": null,
   "id": "9",
   "metadata": {},
   "outputs": [],
   "source": [
    "def plot_std(\n",
    "    data,\n",
    "    dims: str | list[str],\n",
    "    title: str,\n",
    "    vmin=0.5,\n",
    "    vmax=1.5,\n",
    "    x: str | None = None,\n",
    "    y: str | None = None,\n",
    "):\n",
    "    fig = WorldPlot().plot(\n",
    "        data=da.sqrt(da.square(data).mean(dims)),\n",
    "        title=title,\n",
    "        fn=f\"map-std-{title}\",\n",
    "        plot_size=(9.6, 3.6),\n",
    "        cbar_label=\"std. dev. normalized errors\",\n",
    "        vmin=vmin,\n",
    "        vmax=vmax,\n",
    "        x=x,\n",
    "        y=y,\n",
    "    )\n",
    "    fig.clear()"
   ]
  },
  {
   "cell_type": "code",
   "execution_count": null,
   "id": "10",
   "metadata": {},
   "outputs": [],
   "source": [
    "def plot_range(\n",
    "    data,\n",
    "    dims: str | list[str],\n",
    "    title: str,\n",
    "    vmin=1.0,\n",
    "    vmax=5.0,\n",
    "    x: str | None = None,\n",
    "    y: str | None = None,\n",
    "):\n",
    "    fig = WorldPlot().plot(\n",
    "        data=(data.max(dim=dims) - data.min(dim=dims)),\n",
    "        title=title,\n",
    "        fn=f\"map-range-{title}\",\n",
    "        plot_size=(9.6, 3.6),\n",
    "        cbar_label=\"range of normalized errors\",\n",
    "        vmin=vmin,\n",
    "        vmax=vmax,\n",
    "        x=x,\n",
    "        y=y,\n",
    "    )\n",
    "    fig.clear()"
   ]
  },
  {
   "cell_type": "markdown",
   "id": "11",
   "metadata": {
    "jp-MarkdownHeadingCollapsed": true
   },
   "source": [
    "# ESA SCOPE carbonate system (D. J. Ford)"
   ]
  },
  {
   "cell_type": "code",
   "execution_count": null,
   "id": "12",
   "metadata": {},
   "outputs": [],
   "source": [
    "ds = xr.open_mfdataset(\n",
    "    \"./Ford_et_al_UExP-FNN-U_physics_carbonatesystem_ESASCOPE_v5.*.nc\",\n",
    "    engine=\"h5netcdf\",\n",
    "    chunks={\"time\": 12},\n",
    "    combine=\"nested\",\n",
    "    concat_dim=\"i\",\n",
    ").transpose(\"i\", \"time\", \"latitude\", \"longitude\")"
   ]
  },
  {
   "cell_type": "code",
   "execution_count": null,
   "id": "13",
   "metadata": {},
   "outputs": [],
   "source": [
    "ds"
   ]
  },
  {
   "cell_type": "code",
   "execution_count": null,
   "id": "14",
   "metadata": {},
   "outputs": [],
   "source": [
    "config = {\n",
    "    \"fco2\": {\n",
    "        \"name\": \"Fugacity of CO2 in sea water\",\n",
    "        \"uncertainty\": \"fco2_tot_unc\",\n",
    "        \"coverage\": 2.0,\n",
    "    },\n",
    "    \"flux\": {\n",
    "        \"name\": \"Air-sea CO2 flux\",\n",
    "        \"uncertainty\": \"flux_unc\",\n",
    "        \"relative\": True,\n",
    "        \"coverage\": 2.0,\n",
    "    },\n",
    "    \"ta\": {\n",
    "        \"name\": \"Total alkalinity\",\n",
    "        \"uncertainty\": \"ta_tot_unc\",\n",
    "        \"coverage\": 2.0,\n",
    "    },\n",
    "    \"dic\": {\n",
    "        \"name\": \"Dissolved inorganic carbon\",\n",
    "        \"uncertainty\": \"dic_tot_unc\",\n",
    "        \"coverage\": 2.0,\n",
    "    },\n",
    "    \"pH\": {\n",
    "        \"name\": \"pH\",\n",
    "        \"uncertainty\": \"pH_tot_unc\",\n",
    "        \"coverage\": 2.0,\n",
    "    },\n",
    "    \"saturation_aragonite\": {\n",
    "        \"name\": \"Saturation state of aragonite\",\n",
    "        \"uncertainty\": \"saturation_aragonite_tot_unc\",\n",
    "        \"coverage\": 2.0,\n",
    "    },\n",
    "}"
   ]
  },
  {
   "cell_type": "code",
   "execution_count": null,
   "id": "15",
   "metadata": {},
   "outputs": [],
   "source": [
    "def xu(ds, v, a):\n",
    "    x = ds[v][0]\n",
    "    u = ds[a[\"uncertainty\"]][0] / a.get(\"coverage\", 1.0)\n",
    "    if a.get(\"relative\", False):\n",
    "        u = u * x\n",
    "    return x, u"
   ]
  },
  {
   "cell_type": "code",
   "execution_count": null,
   "id": "16",
   "metadata": {},
   "outputs": [],
   "source": [
    "for v, a in config.items():\n",
    "    x, u = xu(ds, v, a)\n",
    "    res = (ds[v][1:] - x) / u\n",
    "    plot_histogram(\n",
    "        res,\n",
    "        title=a[\"name\"],\n",
    "    )\n",
    "    plot_mean(\n",
    "        res,\n",
    "        dims=[\"i\", \"time\"],\n",
    "        title=a[\"name\"],\n",
    "    )\n",
    "    plot_std(\n",
    "        res,\n",
    "        dims=[\"i\", \"time\"],\n",
    "        title=a[\"name\"],\n",
    "    )\n",
    "    plot_range(\n",
    "        res,\n",
    "        dims=[\"i\", \"time\"],\n",
    "        title=a[\"name\"],\n",
    "    )"
   ]
  },
  {
   "cell_type": "code",
   "execution_count": null,
   "id": "17",
   "metadata": {},
   "outputs": [],
   "source": [
    "ds.close()"
   ]
  },
  {
   "cell_type": "markdown",
   "id": "18",
   "metadata": {
    "jp-MarkdownHeadingCollapsed": true
   },
   "source": [
    "# ESA CCI Ocean Colour"
   ]
  },
  {
   "cell_type": "code",
   "execution_count": null,
   "id": "19",
   "metadata": {},
   "outputs": [],
   "source": [
    "ds = xr.open_mfdataset(\n",
    "    \"./ESACCI-OC-L3S-OC_PRODUCTS-MERGED-1M_MONTHLY_4km_GEO_PML_OCx_QAA-200001-fv6.0.*.nc\",\n",
    "    engine=\"h5netcdf\",\n",
    "    chunks={\"lat\": 1080, \"lon\": 1080},\n",
    "    combine=\"nested\",\n",
    "    concat_dim=\"i\",\n",
    ")"
   ]
  },
  {
   "cell_type": "code",
   "execution_count": null,
   "id": "20",
   "metadata": {},
   "outputs": [],
   "source": [
    "ds"
   ]
  },
  {
   "cell_type": "code",
   "execution_count": null,
   "id": "21",
   "metadata": {},
   "outputs": [],
   "source": [
    "config = {\n",
    "    \"Rrs_412\": {\n",
    "        \"name\": \"Remote sensing reflectance (412 nm)\",\n",
    "        \"bias\": \"Rrs_412_bias\",\n",
    "        \"rmsd\": \"Rrs_412_rmsd\",\n",
    "    },\n",
    "    \"Rrs_443\": {\n",
    "        \"name\": \"Remote sensing reflectance (443 nm)\",\n",
    "        \"bias\": \"Rrs_443_bias\",\n",
    "        \"rmsd\": \"Rrs_443_rmsd\",\n",
    "    },\n",
    "    \"Rrs_490\": {\n",
    "        \"name\": \"Remote sensing reflectance (490 nm)\",\n",
    "        \"bias\": \"Rrs_490_bias\",\n",
    "        \"rmsd\": \"Rrs_490_rmsd\",\n",
    "    },\n",
    "    \"Rrs_510\": {\n",
    "        \"name\": \"Remote sensing reflectance (510 nm)\",\n",
    "        \"bias\": \"Rrs_510_bias\",\n",
    "        \"rmsd\": \"Rrs_510_rmsd\",\n",
    "    },\n",
    "    \"Rrs_560\": {\n",
    "        \"name\": \"Remote sensing reflectance (560 nm)\",\n",
    "        \"bias\": \"Rrs_560_bias\",\n",
    "        \"rmsd\": \"Rrs_560_rmsd\",\n",
    "    },\n",
    "    \"Rrs_665\": {\n",
    "        \"name\": \"Remote sensing reflectance (665 nm)\",\n",
    "        \"bias\": \"Rrs_665_bias\",\n",
    "        \"rmsd\": \"Rrs_665_rmsd\",\n",
    "    },\n",
    "    \"adg_412\": {\n",
    "        \"name\": \"Detritus absorption coefficient (412 nm)\",\n",
    "        \"bias\": \"adg_412_bias\",\n",
    "        \"rmsd\": \"adg_412_rmsd\",\n",
    "    },\n",
    "    \"adg_443\": {\n",
    "        \"name\": \"Detritus absorption coefficient (443 nm)\",\n",
    "        \"bias\": \"adg_443_bias\",\n",
    "        \"rmsd\": \"adg_443_rmsd\",\n",
    "    },\n",
    "    \"adg_490\": {\n",
    "        \"name\": \"Detritus absorption coefficient (490 nm)\",\n",
    "        \"bias\": \"adg_490_bias\",\n",
    "        \"rmsd\": \"adg_490_rmsd\",\n",
    "    },\n",
    "    \"adg_510\": {\n",
    "        \"name\": \"Detritus absorption coefficient (510 nm)\",\n",
    "        \"bias\": \"adg_510_bias\",\n",
    "        \"rmsd\": \"adg_510_rmsd\",\n",
    "    },\n",
    "    \"adg_560\": {\n",
    "        \"name\": \"Detritus absorption coefficient (560 nm)\",\n",
    "        \"bias\": \"adg_560_bias\",\n",
    "        \"rmsd\": \"adg_560_rmsd\",\n",
    "    },\n",
    "    \"adg_665\": {\n",
    "        \"name\": \"Detritus absorption coefficient (665 nm)\",\n",
    "        \"bias\": \"adg_665_bias\",\n",
    "        \"rmsd\": \"adg_665_rmsd\",\n",
    "    },\n",
    "    \"aph_412\": {\n",
    "        \"name\": \"Phytoplankton absorption coefficient (412 nm)\",\n",
    "        \"bias\": \"aph_412_bias\",\n",
    "        \"rmsd\": \"aph_412_rmsd\",\n",
    "    },\n",
    "    \"aph_443\": {\n",
    "        \"name\": \"Phytoplankton absorption coefficient (443 nm)\",\n",
    "        \"bias\": \"aph_443_bias\",\n",
    "        \"rmsd\": \"aph_443_rmsd\",\n",
    "    },\n",
    "    \"aph_490\": {\n",
    "        \"name\": \"Phytoplankton absorption coefficient (490 nm)\",\n",
    "        \"bias\": \"aph_490_bias\",\n",
    "        \"rmsd\": \"aph_490_rmsd\",\n",
    "    },\n",
    "    \"aph_510\": {\n",
    "        \"name\": \"Phytoplankton absorption coefficient (510 nm)\",\n",
    "        \"bias\": \"aph_510_bias\",\n",
    "        \"rmsd\": \"aph_510_rmsd\",\n",
    "    },\n",
    "    \"aph_560\": {\n",
    "        \"name\": \"Phytoplankton absorption coefficient (560 nm)\",\n",
    "        \"bias\": \"aph_560_bias\",\n",
    "        \"rmsd\": \"aph_560_rmsd\",\n",
    "    },\n",
    "    \"aph_665\": {\n",
    "        \"name\": \"Phytoplankton absorption coefficient (665 nm)\",\n",
    "        \"bias\": \"aph_665_bias\",\n",
    "        \"rmsd\": \"aph_665_rmsd\",\n",
    "    },\n",
    "    \"kd_490\": {\n",
    "        \"name\": \"Attenuation coefficent (490 nm)\",\n",
    "        \"bias\": \"kd_490_bias\",\n",
    "        \"rmsd\": \"kd_490_rmsd\",\n",
    "    },\n",
    "    \"chlor_a\": {\n",
    "        \"name\": \"Chlorophyll-a concentration\",\n",
    "        \"bias\": \"chlor_a_log10_bias\",\n",
    "        \"rmsd\": \"chlor_a_log10_rmsd\",\n",
    "    },\n",
    "}"
   ]
  },
  {
   "cell_type": "code",
   "execution_count": null,
   "id": "22",
   "metadata": {},
   "outputs": [],
   "source": [
    "def xu(ds, v, a):\n",
    "    x = ds[v][0, 0]\n",
    "    u = np.sqrt(\n",
    "        np.square(ds[a[\"rmsd\"]][0, 0]) - np.square(ds[a[\"bias\"]][0, 0])\n",
    "    )\n",
    "    if v == \"chlor_a\":\n",
    "        u = x * np.sqrt(np.exp(np.square(np.log(10.0) * u)) - 1.0)\n",
    "    return x, u"
   ]
  },
  {
   "cell_type": "code",
   "execution_count": null,
   "id": "23",
   "metadata": {},
   "outputs": [],
   "source": [
    "for v, a in config.items():\n",
    "    x, u = xu(ds, v, a)\n",
    "    res = (ds[v][1:, 0] - x) / u\n",
    "    plot_histogram(\n",
    "        res,\n",
    "        title=a[\"name\"],\n",
    "    )\n",
    "    plot_histogram_mean(\n",
    "        res,\n",
    "        dims=\"i\",\n",
    "        title=a[\"name\"],\n",
    "    )\n",
    "    plot_histogram_std(\n",
    "        res,\n",
    "        dims=\"i\",\n",
    "        title=a[\"name\"],\n",
    "    )\n",
    "    plot_histogram_range(\n",
    "        res,\n",
    "        dims=\"i\",\n",
    "        title=a[\"name\"],\n",
    "    )\n",
    "    plot_mean(\n",
    "        res,\n",
    "        dims=\"i\",\n",
    "        title=a[\"name\"],\n",
    "    )\n",
    "    plot_std(\n",
    "        res,\n",
    "        dims=\"i\",\n",
    "        title=a[\"name\"],\n",
    "    )\n",
    "    plot_range(\n",
    "        res,\n",
    "        dims=\"i\",\n",
    "        title=a[\"name\"],\n",
    "    )"
   ]
  },
  {
   "cell_type": "code",
   "execution_count": null,
   "id": "24",
   "metadata": {},
   "outputs": [],
   "source": [
    "ds.close()"
   ]
  },
  {
   "cell_type": "markdown",
   "id": "25",
   "metadata": {
    "jp-MarkdownHeadingCollapsed": true
   },
   "source": [
    "# GHRSST"
   ]
  },
  {
   "cell_type": "code",
   "execution_count": null,
   "id": "26",
   "metadata": {},
   "outputs": [],
   "source": [
    "ds = xr.open_mfdataset(\n",
    "    \"./200001-ESACCI-L4_GHRSST-SSTdepth-OSTIA-GLOB_CDR3.0-v02.0-fv01.0-1M.*.nc\",\n",
    "    engine=\"h5netcdf\",\n",
    "    chunks={\"lat\": 1800, \"lon\": 3600},\n",
    "    combine=\"nested\",\n",
    "    concat_dim=\"i\",\n",
    ")"
   ]
  },
  {
   "cell_type": "code",
   "execution_count": null,
   "id": "27",
   "metadata": {},
   "outputs": [],
   "source": [
    "ds"
   ]
  },
  {
   "cell_type": "code",
   "execution_count": null,
   "id": "28",
   "metadata": {},
   "outputs": [],
   "source": [
    "config = {\n",
    "    \"analysed_sst\": {\n",
    "        \"name\": \"Sea surface temperature\",\n",
    "        \"uncertainty\": \"analysed_sst_uncertainty\",\n",
    "        \"distribution\": \"normal\",\n",
    "    }\n",
    "}"
   ]
  },
  {
   "cell_type": "code",
   "execution_count": null,
   "id": "29",
   "metadata": {},
   "outputs": [],
   "source": [
    "def xu(ds, v, a):\n",
    "    x = ds[v][0, 0]\n",
    "    u = ds[a[\"uncertainty\"]][0, 0]\n",
    "    return x, u"
   ]
  },
  {
   "cell_type": "code",
   "execution_count": null,
   "id": "30",
   "metadata": {},
   "outputs": [],
   "source": [
    "for v, a in config.items():\n",
    "    x, u = xu(ds, v, a)\n",
    "    res = (ds[v][1:, 0] - x) / u\n",
    "    plot_histogram(\n",
    "        res,\n",
    "        title=a[\"name\"],\n",
    "    )\n",
    "    plot_histogram_mean(\n",
    "        res,\n",
    "        dims=\"i\",\n",
    "        title=a[\"name\"],\n",
    "    )\n",
    "    plot_histogram_std(\n",
    "        res,\n",
    "        dims=\"i\",\n",
    "        title=a[\"name\"],\n",
    "    )\n",
    "    plot_histogram_range(\n",
    "        res,\n",
    "        dims=\"i\",\n",
    "        title=a[\"name\"],\n",
    "    )\n",
    "    plot_mean(\n",
    "        res,\n",
    "        dims=\"i\",\n",
    "        title=a[\"name\"],\n",
    "    )\n",
    "    plot_std(\n",
    "        res,\n",
    "        dims=\"i\",\n",
    "        title=a[\"name\"],\n",
    "    )\n",
    "    plot_range(\n",
    "        res,\n",
    "        dims=\"i\",\n",
    "        title=a[\"name\"],\n",
    "    )"
   ]
  },
  {
   "cell_type": "code",
   "execution_count": null,
   "id": "31",
   "metadata": {},
   "outputs": [],
   "source": [
    "ds.close()"
   ]
  },
  {
   "cell_type": "markdown",
   "id": "32",
   "metadata": {
    "jp-MarkdownHeadingCollapsed": true
   },
   "source": [
    "# GLORYS"
   ]
  },
  {
   "cell_type": "code",
   "execution_count": null,
   "id": "33",
   "metadata": {},
   "outputs": [],
   "source": [
    "ds = xr.open_mfdataset(\n",
    "    \"./mercatorglorys12v1_gl12_mean_200001.*.nc\",\n",
    "    engine=\"h5netcdf\",\n",
    "    mask_and_scale=True,\n",
    "    chunks={\"latitude\": 2041, \"lon\": 2160, \"depth\": 1},\n",
    "    combine=\"nested\",\n",
    "    concat_dim=\"i\",\n",
    ")"
   ]
  },
  {
   "cell_type": "code",
   "execution_count": null,
   "id": "34",
   "metadata": {},
   "outputs": [],
   "source": [
    "ds"
   ]
  },
  {
   "cell_type": "code",
   "execution_count": null,
   "id": "35",
   "metadata": {},
   "outputs": [],
   "source": [
    "config = {\n",
    "    \"so\": {\n",
    "        \"name\": \"Sea surface salinity\",\n",
    "        \"uncertainty\": 0.1,\n",
    "    }\n",
    "}"
   ]
  },
  {
   "cell_type": "code",
   "execution_count": null,
   "id": "36",
   "metadata": {},
   "outputs": [],
   "source": [
    "def xu(ds, v, a):\n",
    "    x = ds[v][0, 0, 0]\n",
    "    u = a[\"uncertainty\"]\n",
    "    return x, u"
   ]
  },
  {
   "cell_type": "code",
   "execution_count": null,
   "id": "37",
   "metadata": {},
   "outputs": [],
   "source": [
    "for v, a in config.items():\n",
    "    x, u = xu(ds, v, a)\n",
    "    res = (ds[v][1:, 0, 0] - x) / u\n",
    "    plot_histogram(\n",
    "        res,\n",
    "        title=a[\"name\"],\n",
    "    )\n",
    "    plot_histogram_mean(\n",
    "        res,\n",
    "        dims=\"i\",\n",
    "        title=a[\"name\"],\n",
    "    )\n",
    "    plot_histogram_std(\n",
    "        res,\n",
    "        dims=\"i\",\n",
    "        title=a[\"name\"],\n",
    "    )\n",
    "    plot_histogram_range(\n",
    "        res,\n",
    "        dims=\"i\",\n",
    "        title=a[\"name\"],\n",
    "    )\n",
    "    plot_mean(\n",
    "        res,\n",
    "        dims=[\"i\"],\n",
    "        title=a[\"name\"],\n",
    "    )\n",
    "    plot_std(\n",
    "        res,\n",
    "        dims=[\"i\"],\n",
    "        title=a[\"name\"],\n",
    "    )\n",
    "    plot_range(\n",
    "        res,\n",
    "        dims=[\"i\"],\n",
    "        title=a[\"name\"],\n",
    "    )"
   ]
  },
  {
   "cell_type": "code",
   "execution_count": null,
   "id": "38",
   "metadata": {},
   "outputs": [],
   "source": [
    "ds.close()"
   ]
  },
  {
   "cell_type": "markdown",
   "id": "39",
   "metadata": {
    "jp-MarkdownHeadingCollapsed": true
   },
   "source": [
    "# ESA SCOPE PP parameters"
   ]
  },
  {
   "cell_type": "code",
   "execution_count": null,
   "id": "40",
   "metadata": {},
   "outputs": [],
   "source": [
    "ds = xr.open_mfdataset(\n",
    "    \"./PE_mro_mean_error_prv_4km_120p_spring_cor.*.nc\",\n",
    "    engine=\"h5netcdf\",\n",
    "    chunks={\"lat\": 1440, \"lon\": 1440},\n",
    "    combine=\"nested\",\n",
    "    concat_dim=\"i\",\n",
    ")"
   ]
  },
  {
   "cell_type": "code",
   "execution_count": null,
   "id": "41",
   "metadata": {},
   "outputs": [],
   "source": [
    "ds"
   ]
  },
  {
   "cell_type": "code",
   "execution_count": null,
   "id": "42",
   "metadata": {},
   "outputs": [],
   "source": [
    "config = {\n",
    "   \"alphaB\": {\n",
    "      \"uncertainty\": \"alphaB_unc\",\n",
    "      \"name\": \"Initial slope of photosynthesis-irradiance curve\",\n",
    "    },\n",
    "    \"PmB\": {\n",
    "      \"uncertainty\": \"PmB_unc\",\n",
    "      \"name\": \"Assimilation number of photosynthesis-irradiance curve\",\n",
    "    }\n",
    "}"
   ]
  },
  {
   "cell_type": "code",
   "execution_count": null,
   "id": "43",
   "metadata": {},
   "outputs": [],
   "source": [
    "def xu(ds, v, a):\n",
    "    x = ds[v][0]\n",
    "    u = ds[a[\"uncertainty\"]][0]\n",
    "    return x, u"
   ]
  },
  {
   "cell_type": "code",
   "execution_count": null,
   "id": "44",
   "metadata": {},
   "outputs": [],
   "source": [
    "for v, a in config.items():\n",
    "    x, u = xu(ds, v, a)\n",
    "    res = (ds[v][1:] - x) / u\n",
    "    plot_histogram(\n",
    "        res,\n",
    "        title=a[\"name\"],\n",
    "    )\n",
    "    plot_histogram_mean(\n",
    "        res,\n",
    "        dims=\"i\",\n",
    "        title=a[\"name\"],\n",
    "    )\n",
    "    plot_histogram_std(\n",
    "        res,\n",
    "        dims=\"i\",\n",
    "        title=a[\"name\"],\n",
    "    )\n",
    "    plot_histogram_range(\n",
    "        res,\n",
    "        dims=\"i\",\n",
    "        title=a[\"name\"],\n",
    "    )\n",
    "    plot_mean(\n",
    "        res,\n",
    "        dims=[\"i\"],\n",
    "        title=a[\"name\"],\n",
    "        x=\"lon\",\n",
    "        y=\"lat\",\n",
    "    )\n",
    "    plot_std(\n",
    "        res,\n",
    "        dims=[\"i\"],\n",
    "        title=a[\"name\"],\n",
    "        x=\"lon\",\n",
    "        y=\"lat\",\n",
    "    )\n",
    "    plot_range(\n",
    "        res,\n",
    "        dims=[\"i\"],\n",
    "        title=a[\"name\"],\n",
    "        x=\"lon\",\n",
    "        y=\"lat\",\n",
    "    )"
   ]
  },
  {
   "cell_type": "code",
   "execution_count": null,
   "id": "45",
   "metadata": {},
   "outputs": [],
   "source": [
    "ds.close()"
   ]
  },
  {
   "cell_type": "code",
   "execution_count": null,
   "id": "46",
   "metadata": {},
   "outputs": [],
   "source": []
  }
 ],
 "metadata": {
  "kernelspec": {
   "display_name": "Python 3 (ipykernel)",
   "language": "python",
   "name": "python3"
  },
  "language_info": {
   "codemirror_mode": {
    "name": "ipython",
    "version": 3
   },
   "file_extension": ".py",
   "mimetype": "text/x-python",
   "name": "python",
   "nbconvert_exporter": "python",
   "pygments_lexer": "ipython3",
   "version": "3.13.3"
  }
 },
 "nbformat": 4,
 "nbformat_minor": 5
}
